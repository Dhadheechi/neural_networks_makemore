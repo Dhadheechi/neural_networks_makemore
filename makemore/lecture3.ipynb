{
 "cells": [
  {
   "cell_type": "code",
   "execution_count": 296,
   "id": "2c18c092-b800-4722-b80c-fc9872a50a8c",
   "metadata": {},
   "outputs": [],
   "source": [
    "import torch\n",
    "import torch.nn.functional as F\n",
    "import matplotlib.pyplot as plt\n",
    "import math\n",
    "%matplotlib inline"
   ]
  },
  {
   "cell_type": "code",
   "execution_count": 297,
   "id": "002ff467-c31b-481f-abb3-6930a907fe32",
   "metadata": {},
   "outputs": [
    {
     "data": {
      "text/plain": [
       "['emma', 'olivia', 'ava', 'isabella', 'sophia', 'charlotte', 'mia', 'amelia']"
      ]
     },
     "execution_count": 297,
     "metadata": {},
     "output_type": "execute_result"
    }
   ],
   "source": [
    "# read in all the words\n",
    "words = open('names.txt', 'r').read().splitlines()\n",
    "words[:8]"
   ]
  },
  {
   "cell_type": "code",
   "execution_count": 298,
   "id": "24072285-197d-45bd-8ae7-6e852afd7f75",
   "metadata": {},
   "outputs": [
    {
     "data": {
      "text/plain": [
       "32033"
      ]
     },
     "execution_count": 298,
     "metadata": {},
     "output_type": "execute_result"
    }
   ],
   "source": [
    "len(words)"
   ]
  },
  {
   "cell_type": "code",
   "execution_count": 299,
   "id": "adfe31be-54f0-4ec5-8ebe-3c900a7bc139",
   "metadata": {},
   "outputs": [
    {
     "name": "stdout",
     "output_type": "stream",
     "text": [
      "{1: 'a', 2: 'b', 3: 'c', 4: 'd', 5: 'e', 6: 'f', 7: 'g', 8: 'h', 9: 'i', 10: 'j', 11: 'k', 12: 'l', 13: 'm', 14: 'n', 15: 'o', 16: 'p', 17: 'q', 18: 'r', 19: 's', 20: 't', 21: 'u', 22: 'v', 23: 'w', 24: 'x', 25: 'y', 26: 'z', 0: '.'}\n"
     ]
    }
   ],
   "source": [
    "chars = sorted(list(set(''.join(words))))\n",
    "ctoi = {c:i+1 for i,c in enumerate(chars)}\n",
    "ctoi['.'] = 0\n",
    "itoc = {i:c for c,i in ctoi.items()}\n",
    "print(itoc)\n",
    "vocab_size = len(itoc)"
   ]
  },
  {
   "cell_type": "code",
   "execution_count": 300,
   "id": "54bd5825-f232-44c9-a900-be945f1aced1",
   "metadata": {},
   "outputs": [],
   "source": [
    "# build the dataset\n",
    "\n",
    "block_size = 3 # context length; how many characters do we need to predict the next one?\n",
    "X,Y = [], []\n",
    "\n",
    "for w in words:\n",
    "    context = [0]* block_size\n",
    "    for ch in w + '.':\n",
    "        index = ctoi[ch]\n",
    "        X.append(context)\n",
    "        Y.append(index)\n",
    "        #print(''.join(itoc[i] for i in context), '----->', itoc[index])\n",
    "        context = context[1:] + [index] # crop and append\n",
    "\n",
    "X = torch.tensor(X)\n",
    "Y = torch.tensor(Y)"
   ]
  },
  {
   "cell_type": "code",
   "execution_count": 307,
   "id": "79da9f45-508a-4321-b52e-3def01c86508",
   "metadata": {},
   "outputs": [
    {
     "name": "stdout",
     "output_type": "stream",
     "text": [
      "torch.Size([182437, 3]) torch.Size([182437])\n",
      "torch.Size([22781, 3]) torch.Size([22781])\n",
      "torch.Size([22928, 3]) torch.Size([22928])\n"
     ]
    }
   ],
   "source": [
    "def build_dataset(words):\n",
    "    block_size = 3 # context length; how many characters do we need to predict the next one?\n",
    "    X,Y = [], []\n",
    "    \n",
    "    for w in words:\n",
    "        context = [0]* block_size\n",
    "        for ch in w + '.':\n",
    "            index = ctoi[ch]\n",
    "            X.append(context)\n",
    "            Y.append(index)\n",
    "            #print(''.join(itoc[i] for i in context), '----->', itoc[index])\n",
    "            context = context[1:] + [index] # crop and append\n",
    "    \n",
    "    X = torch.tensor(X)\n",
    "    Y = torch.tensor(Y)\n",
    "    print(X.shape, Y.shape)\n",
    "    return X,Y\n",
    "\n",
    "import random\n",
    "random.seed(42)\n",
    "random.shuffle(words)\n",
    "ix1 = math.floor(0.8*len(words))\n",
    "ix2 = math.floor(0.9*len(words))\n",
    "Xtr, Ytr = build_dataset(words[:ix1])\n",
    "Xdev, Ydev = build_dataset(words[ix1:ix2])\n",
    "Xte, Yte = build_dataset(words[ix2:])"
   ]
  },
  {
   "cell_type": "code",
   "execution_count": 308,
   "id": "ebd60366-ac79-4e9e-9199-0567448134c5",
   "metadata": {},
   "outputs": [
    {
     "data": {
      "text/plain": [
       "(torch.Size([182437, 3]), torch.int64, torch.Size([182437]), torch.int64)"
      ]
     },
     "execution_count": 308,
     "metadata": {},
     "output_type": "execute_result"
    }
   ],
   "source": [
    "Xtr.shape, Xtr.dtype, Ytr.shape, Ytr.dtype"
   ]
  },
  {
   "cell_type": "code",
   "execution_count": 309,
   "id": "e027874f-cf3a-4c97-ac9f-26c42a1cf7e7",
   "metadata": {},
   "outputs": [],
   "source": [
    "# making it more respectable"
   ]
  },
  {
   "cell_type": "code",
   "execution_count": 310,
   "id": "9ab48826-c268-438a-a004-706d04ea2eaa",
   "metadata": {},
   "outputs": [
    {
     "data": {
      "text/plain": [
       "(torch.Size([182437, 3]), torch.Size([182437]))"
      ]
     },
     "execution_count": 310,
     "metadata": {},
     "output_type": "execute_result"
    }
   ],
   "source": [
    "Xtr.shape, Ytr.shape # dataset"
   ]
  },
  {
   "cell_type": "code",
   "execution_count": 306,
   "id": "8c7a8608-e05e-42ef-96e4-f60181e188f8",
   "metadata": {},
   "outputs": [
    {
     "name": "stdout",
     "output_type": "stream",
     "text": [
      "12097\n"
     ]
    }
   ],
   "source": [
    "n_emb = 10\n",
    "n_hidden = 200\n",
    "\n",
    "g = torch.Generator().manual_seed(2147483647)\n",
    "C = torch.randn((vocab_size,n_emb), generator=g) # ten-dimensional embeddings\n",
    "W1 = torch.randn((block_size*n_emb,n_hidden), generator=g) * (5/3) * (1/(block_size*n_emb)**0.5) * 0 # kaiming init\n",
    "#b1 = torch.randn(n_hidden, generator=g) * 0.01\n",
    "W2 = torch.randn((n_hidden,vocab_size), generator=g) * 0 # a better initialization; smaller weights give less extreme logits\n",
    "b2 = torch.randn(vocab_size, generator=g) * 0\n",
    "\n",
    "# BatchNorm parameters\n",
    "bngain = torch.ones((1, n_hidden)) # trainable std parameter\n",
    "bnbias = torch.zeros((1, n_hidden)) # trainable mean parameter\n",
    "bnmean_running = torch.zeros((1, n_hidden))\n",
    "bnstd_running = torch.ones((1, n_hidden))\n",
    "\n",
    "parameters = [C, W1, W2, b2, bngain, bnbias]\n",
    "\n",
    "print(sum(p.nelement() for p in parameters))\n",
    "for p in parameters:\n",
    "    p.requires_grad = True"
   ]
  },
  {
   "cell_type": "code",
   "execution_count": null,
   "id": "3dd2db4d-39e7-4523-8b5f-7d870714af5d",
   "metadata": {},
   "outputs": [],
   "source": [
    "lre = torch.linspace(-1,-2,10000) # log values of the learning rates, which are linearly spaced\n",
    "lrs = 10**lre"
   ]
  },
  {
   "cell_type": "code",
   "execution_count": null,
   "id": "cb5381a2-9281-42be-a476-59d21b9644b6",
   "metadata": {},
   "outputs": [],
   "source": [
    "lri = []\n",
    "lossi = []\n",
    "stepi = []"
   ]
  },
  {
   "cell_type": "code",
   "execution_count": null,
   "id": "8f1ebc61-5c54-4856-8550-75a3e19de878",
   "metadata": {},
   "outputs": [],
   "source": [
    "# we want to convert the embedding tensor of shape (number of samples, block_size, size of embedding) to \n",
    "# a shape of (number of samples, block_size*size_of_embedding) which we then multiply with the weight matrix W1"
   ]
  },
  {
   "cell_type": "code",
   "execution_count": null,
   "id": "91f393a7-51e5-4bdc-ba55-f656078c91cd",
   "metadata": {},
   "outputs": [],
   "source": [
    "x = torch.randn(1000, 1) # just an example\n",
    "w = torch.randn(1, 200) #/ ((5/3)*(10**0.5))# kaiming init; makes sure that the product also has unit standard deviation\n",
    "y = x @ w\n",
    "print(x.mean(), x.std())\n",
    "print(y.mean(), y.std())\n",
    "plt.Figure(figsize=(20,5))\n",
    "plt.subplot(121)\n",
    "plt.hist(x.view(-1).tolist(), 50, density=True);\n",
    "plt.subplot(122)\n",
    "plt.hist(y.view(-1).tolist(), 50, density=True);"
   ]
  },
  {
   "cell_type": "code",
   "execution_count": null,
   "id": "e6216168-8e43-4a81-b578-dbe5226b5292",
   "metadata": {},
   "outputs": [],
   "source": [
    "max_steps = 200000\n",
    "batch_size = 64\n",
    "\n",
    "for i in range(200000):\n",
    "    # minibatch construct \n",
    "    ix = torch.randint(0, Xtr.shape[0], (64,)) # generating 64 random indices for the minibatch\n",
    "    \n",
    "    # forward pass\n",
    "    emb = C[Xtr[ix]] \n",
    "    embcat = emb.view(-1,block_size*n_emb)\n",
    "    # linear layer\n",
    "    hpreact = embcat @ W1 #+ b1 # the tanh activations become saturated if abs(hpreact) takes on values > 2.64 \n",
    "    # BatchNorm layer\n",
    "    bnmeani = hpreact.mean(0, keepdim=True)\n",
    "    bnstdi = hpreact.std(0, keepdim=True)\n",
    "    hpreact = bngain * (hpreact - bnmeani) / bnstdi + bnbias # batch normalization\n",
    "    with torch.no_grad(): # calculating the running mean and std which is an estimate of the actual mean/std over the entire training set\n",
    "        bnmean_running = 0.999*bnmean_running + 0.001*bnmeani\n",
    "        bnstd_running = 0.999*bnstd_running + 0.001*bnstdi\n",
    "\n",
    "    # Non-Linearity\n",
    "    h = torch.tanh(hpreact)  # hidden layer\n",
    "    logits = h @ W2 + b2 # output layer\n",
    "    loss = F.cross_entropy(logits, Ytr[ix])\n",
    "    #print(loss.item())\n",
    "\n",
    "    # backward pass\n",
    "    for p in parameters:\n",
    "        p.grad = None\n",
    "    loss.backward()\n",
    "\n",
    "    # update\n",
    "    if i < 50000:\n",
    "        lr = 0.1\n",
    "    elif i < 150000:\n",
    "        lr = 0.05\n",
    "    else:\n",
    "        lr = 0.01\n",
    "        \n",
    "    \n",
    "    for p in parameters:\n",
    "        p.data += -lr * p.grad\n",
    "\n",
    "    # track stats\n",
    "    if i%10000 == 0:\n",
    "        print(f'{i:7d}/{max_steps:7d}: {loss.item():.4f}')\n",
    "    lossi.append(loss.log10().item())\n",
    "    stepi.append(i)\n",
    "\n",
    "    #break; intended to check whether tanh neurons were saturated right at the start of training.\n",
    "#print(loss.item())"
   ]
  },
  {
   "cell_type": "code",
   "execution_count": null,
   "id": "4cbd6803-199d-4eb3-a864-be3e8d8f7b31",
   "metadata": {},
   "outputs": [],
   "source": []
  },
  {
   "cell_type": "code",
   "execution_count": null,
   "id": "d96c9dbb-6bf0-45ae-89a1-7c9d30a46ef7",
   "metadata": {
    "scrolled": true
   },
   "outputs": [],
   "source": [
    "logits[0] # much smaller since we scaled W2 down"
   ]
  },
  {
   "cell_type": "code",
   "execution_count": null,
   "id": "1e558d3f-5d0e-42b6-b4bd-282292522eda",
   "metadata": {},
   "outputs": [],
   "source": [
    "h "
   ]
  },
  {
   "cell_type": "code",
   "execution_count": null,
   "id": "3b22868d-1139-44cd-bcf1-58fce5ec5eaf",
   "metadata": {},
   "outputs": [],
   "source": [
    "plt.figure(figsize=(20,10))\n",
    "plt.imshow(h.abs() > 0.99, cmap='gray', interpolation='nearest')"
   ]
  },
  {
   "cell_type": "code",
   "execution_count": null,
   "id": "5c441358-cba4-47b4-8278-8df48db6e895",
   "metadata": {},
   "outputs": [],
   "source": [
    "plt.hist(h.view(-1).tolist(), 50); # "
   ]
  },
  {
   "cell_type": "code",
   "execution_count": null,
   "id": "58cab002-aaec-46c3-9ea5-1468cb9d5668",
   "metadata": {},
   "outputs": [],
   "source": [
    "plt.hist(hpreact.view(-1).tolist(), 50); # initially very broad; take values from -15 to 15; when we scale down W1, its much more peaky"
   ]
  },
  {
   "cell_type": "markdown",
   "id": "a80d2a27-dba9-4bb7-bce8-da5aa44e65d6",
   "metadata": {},
   "source": [
    "The loss wobbles around in the above example since the gradient we used is just an approximation; it's not the actual gradient. But still, the loss goes down over many iterations. "
   ]
  },
  {
   "cell_type": "code",
   "execution_count": null,
   "id": "ff535104-5c56-4e12-8e62-ac773fa2603c",
   "metadata": {},
   "outputs": [],
   "source": [
    "plt.plot(stepi, lossi) # this plot is used to find a good learning rate; note that x axis has log values of the lrs; the *exponents* of 10"
   ]
  },
  {
   "cell_type": "code",
   "execution_count": null,
   "id": "eea10865-db49-4d76-b05d-8e903e8dbd6d",
   "metadata": {},
   "outputs": [],
   "source": [
    "# calibrate the batch norm at the end of training explicitly\n",
    "\n",
    "with torch.no_grad():\n",
    "    # pass the training set through\n",
    "    emb = C[Xtr]\n",
    "    embcat = emb.view(emb.shape[0], -1)\n",
    "    hpreact = embcat@ W1 + b1\n",
    "    # measure the mean and std over the entire traning set, instead of just a single batch\n",
    "    bnmean = hpreact.mean(0, keepdim=True)\n",
    "    bnstd = hpreact.std(0, keepdim=True)\n",
    "    "
   ]
  },
  {
   "cell_type": "code",
   "execution_count": null,
   "id": "2bc6c704-a1b3-4e42-9ced-8dda82c11122",
   "metadata": {},
   "outputs": [],
   "source": [
    "bnmean # from the explicit calculation"
   ]
  },
  {
   "cell_type": "code",
   "execution_count": null,
   "id": "ad199b9b-1d45-420b-8a20-5c98f3ffb112",
   "metadata": {},
   "outputs": [],
   "source": []
  },
  {
   "cell_type": "code",
   "execution_count": null,
   "id": "8634e4ee-84c9-4176-8d30-a19fe96f2191",
   "metadata": {},
   "outputs": [],
   "source": [
    "bnmean_running # hopefully this is close enough to the explicit calculation of bnmean"
   ]
  },
  {
   "cell_type": "code",
   "execution_count": null,
   "id": "f68e2375-89f6-4bf3-bfe3-8d5aad1121e1",
   "metadata": {},
   "outputs": [],
   "source": [
    "def split_loss(split):\n",
    "    x,y = {\n",
    "        'train': (Xtr, Ytr),\n",
    "        'val': (Xdev, Ydev),\n",
    "        'test': (Xte, Yte)\n",
    "    }[split] # indexing into a dictionary\n",
    "\n",
    "\n",
    "    emb = C[x] \n",
    "    embcat = emb.view(-1, block_size*n_emb)\n",
    "    hpreact = embcat @ W1 + b1\n",
    "    hpreact = bngain*(hpreact - bnmean_running) / bnstd_running + bnbias # normalizing over the entire training/validation set; each example is coupled with the entire training set\n",
    "    h = torch.tanh(hpreact) \n",
    "    logits = h @ W2 + b2 \n",
    "    loss = F.cross_entropy(logits, y)\n",
    "    print(f\"{split} {loss.item()}\")\n",
    "    \n",
    "split_loss('train')\n",
    "split_loss('val')"
   ]
  },
  {
   "cell_type": "code",
   "execution_count": null,
   "id": "c2c3a952-9e29-41bf-b77f-17ec05f092a5",
   "metadata": {},
   "outputs": [],
   "source": [
    "b2.grad"
   ]
  },
  {
   "cell_type": "code",
   "execution_count": null,
   "id": "4359068a-4c37-4be7-8761-fdbea7076440",
   "metadata": {},
   "outputs": [],
   "source": [
    "# loss log\n",
    "\n",
    "# original: train: 2.12, val: 2.16\n",
    "# after fixing softmax being confidently wrong (by reducing the size of logits by scaling down W2): train-> 2.07, val->2.13\n",
    "# fixing tanh being too satuarted at intialization (by scaling down W1 and b1): train-> 2.02, val-> 2.10\n",
    "# adding a batch norm layer: train 2.0441455841064453 val 2.0975942611694336"
   ]
  },
  {
   "cell_type": "code",
   "execution_count": null,
   "id": "e7bda42c-2fdf-4d3d-8de3-7c2002e67da7",
   "metadata": {},
   "outputs": [],
   "source": [
    "# visualize dimensions 0 and 1 of the embedding matrix C for all characters\n",
    "plt.figure(figsize=(8,8))\n",
    "plt.scatter(C[:,0].data, C[:,1].data, s=200)\n",
    "for i in range(C.shape[0]):\n",
    "    plt.text(C[i,0].item(), C[i,1].item(), itoc[i], ha=\"center\", va=\"center\", color='white')\n",
    "plt.grid('minor')"
   ]
  },
  {
   "cell_type": "code",
   "execution_count": null,
   "id": "33429556-b0ba-4d9c-9a4c-b0091e57f805",
   "metadata": {},
   "outputs": [],
   "source": [
    "# sample from the model\n",
    "g = torch. Generator().manual_seed (2147483647 + 10)\n",
    "for _ in range (20) :\n",
    "    out = []\n",
    "    context = [0] * block_size # initialize with all ...\n",
    "    while True:\n",
    "        emb = C[torch.tensor([context])] # (1,block_size,d)\n",
    "        embcat = emb.view(1, -1)\n",
    "        hpreact = embcat @ W1 + b1\n",
    "        #print(hpreact.shape)\n",
    "        hpreact = bngain*(hpreact - bnmean_running) / bnstd_running + bnbias\n",
    "        #print(hpreact)\n",
    "        h = torch.tanh(hpreact) \n",
    "        logits = h @ W2 + b2 \n",
    "        #probs = torch.ones((1, 27)) * (1/27) # each character has a uniform probability\n",
    "        probs = F.softmax(logits, dim=1)\n",
    "        ix = torch.multinomial(probs[0], num_samples=1, generator=g). item()\n",
    "        context = context[1:] + [ix]\n",
    "        out.append(ix)   \n",
    "        if ix == 0: break\n",
    "    print(''.join(itoc[i] for i in out))"
   ]
  },
  {
   "cell_type": "code",
   "execution_count": 347,
   "id": "2f810bf8-0bbb-4db3-a0c7-caa02eb653e3",
   "metadata": {},
   "outputs": [
    {
     "name": "stdout",
     "output_type": "stream",
     "text": [
      "47351\n"
     ]
    }
   ],
   "source": [
    "# Let's train a deeper network\n",
    "\n",
    "class Linear:\n",
    "\n",
    "    def __init__(self, fan_in, fan_out, bias=True):\n",
    "        self.weight = torch.randn((fan_in, fan_out), generator=g) / fan_in**0.5 \n",
    "        self.bias = torch.zeros(fan_out) if bias else None # don't play any role; compensated by beta in BatchNorm\n",
    "\n",
    "    def __call__(self,x):\n",
    "        self.out = x @ self.weight\n",
    "        if self.bias is not None:\n",
    "            self.out += self.bias\n",
    "        return self.out\n",
    "\n",
    "    def parameters(self):\n",
    "        return [self.weight] + ([self.bias] if self.bias is not None else [])\n",
    "\n",
    "\n",
    "class BatchNorm1d:\n",
    "\n",
    "    def __init__(self, dim, eps=1e-5, momentum=0.1):\n",
    "        self.eps = eps\n",
    "        self.momentum = momentum\n",
    "        self.training = True\n",
    "        # parameters (trained by backprop)\n",
    "        self.gamma = torch.ones(dim)\n",
    "        self.beta = torch.zeros(dim)\n",
    "        # buffers (trained by a running 'momentum' update, not via backprop)\n",
    "        self.running_mean = torch.zeros(dim)\n",
    "        self.running_var = torch.ones(dim)\n",
    "\n",
    "    def __call__(self, x):\n",
    "        # calculate the forward pass\n",
    "        if self.training:\n",
    "            xmean = x.mean(0, keepdim=True) # batch mean\n",
    "            xvar = x.var(0, keepdim=True) # batch variance\n",
    "        else: # if we're doing inference\n",
    "            xmean = self.running_mean\n",
    "            xvar = self.running_var\n",
    "        xhat = (x - xmean)/torch.sqrt(xvar + self.eps) # BatchNorm to unit variance\n",
    "        self.out = self.gamma * xhat + self.beta\n",
    "        # update the buffers\n",
    "        if self.training: \n",
    "            with torch.no_grad(): # since we're not going to need the gradient of these two buffers\n",
    "                self.running_mean = (1-self.momentum)* self.running_mean + self.momentum * xmean\n",
    "                self.running_var = (1-self.momentum)* self.running_var + self.momentum * xvar\n",
    "\n",
    "        return self.out\n",
    "\n",
    "    def parameters(self):\n",
    "        return [self.gamma, self.beta]\n",
    "\n",
    "class Tanh:\n",
    "    def __call__(self, x):\n",
    "        self.out = torch.tanh(x)\n",
    "        return self.out\n",
    "    def parameters(self):\n",
    "        return []\n",
    "        \n",
    "n_embd = 10 # dimensionality of the character embedding vectors\n",
    "n_hidden = 100 # size of the hidden layer\n",
    "g = torch.Generator().manual_seed(2147483647)\n",
    "\n",
    "# initializing the parameters\n",
    "C = torch.randn((vocab_size, n_embd), generator=g)\n",
    "layers = [\n",
    "    Linear(n_embd * block_size, n_hidden), Tanh(),\n",
    "    Linear(           n_hidden, n_hidden), BatchNorm1d(n_hidden), Tanh(),\n",
    "    Linear(           n_hidden, n_hidden), BatchNorm1d(n_hidden), Tanh(),\n",
    "    Linear(           n_hidden, n_hidden), BatchNorm1d(n_hidden), Tanh(),\n",
    "    Linear(           n_hidden, n_hidden), BatchNorm1d(n_hidden), Tanh(),\n",
    "    Linear(           n_hidden, vocab_size), BatchNorm1d(vocab_size)\n",
    "]\n",
    "\n",
    "# with torch.no_grad(): # just initialization; not actually updating the weights via SGD\n",
    "#     layers[-1].gamma *= 0.1 # last layer => make softmax less confident\n",
    "#     layers[-1].beta *= 0.1\n",
    "#     # all the other layers -> apply kaimit gain\n",
    "#     for layer in layers:\n",
    "#         if isinstance(layer, Linear):\n",
    "#             layer.weight *= 5/3\n",
    "\n",
    "parameters = [C] + [p for layer in layers for p in layer.parameters()]\n",
    "print(sum(p.nelement() for p in parameters))\n",
    "#p2 = [C] + [layer.parameters() for layer in layers] # this a list of lists of parameters, not a list of parameters; that's why needed the double comprehension to unpack\n",
    "for p in parameters:\n",
    "    p.requires_grad = True"
   ]
  },
  {
   "cell_type": "code",
   "execution_count": 348,
   "id": "6e6ae1c3-7a8b-4384-bb01-89492ee4583f",
   "metadata": {},
   "outputs": [
    {
     "name": "stdout",
     "output_type": "stream",
     "text": [
      "      0/  20000: 3.7781\n"
     ]
    }
   ],
   "source": [
    "# same optimization as last time\n",
    "\n",
    "max_steps = 20000\n",
    "num_samples = 64\n",
    "lossi = []\n",
    "ud = []\n",
    "\n",
    "for i in range(max_steps):\n",
    "    # construct mini-batch\n",
    "    ix = torch.randint(0, Xtr.shape[0], (num_samples, ), generator=g)\n",
    "    Xb, Yb = Xtr[ix], Ytr[ix] # mini batch X, Y\n",
    "\n",
    "    # forward pass\n",
    "    emb = C[Xb] # embed the characters into vectors\n",
    "    x = emb.view(Xb.shape[0], -1) # = embcat\n",
    "    for layer in layers:\n",
    "        x = layer(x)\n",
    "    loss = F.cross_entropy(x, Yb)\n",
    "\n",
    "    # backward pass\n",
    "    for layer in layers:\n",
    "        layer.out.retain_grad()\n",
    "    for p in parameters:\n",
    "        p.grad = None\n",
    "    loss.backward()\n",
    "\n",
    "    # update\n",
    "    if i < 50000:\n",
    "        lr = 1.0\n",
    "    elif i < 150000:\n",
    "        lr = 0.05\n",
    "    else:\n",
    "        lr = 0.01 \n",
    "\n",
    "    for p in parameters:\n",
    "        p.data += -lr * p.grad\n",
    "        \n",
    "    # track stats\n",
    "    if i%10000 == 0:\n",
    "        print(f'{i:7d}/{max_steps:7d}: {loss.item():.4f}')\n",
    "    lossi.append(loss.log10().item())\n",
    "\n",
    "    with torch.no_grad():\n",
    "        ud.append([(lr*p.grad.std() / p.data.std()).log10().item() for p in parameters]) # adding the update:data ratio for each of the layers' parameters \n",
    "        \n",
    "    if i>1000:\n",
    "         break\n",
    "\n",
    "    "
   ]
  },
  {
   "cell_type": "code",
   "execution_count": 352,
   "id": "94a056ae-d673-47ee-bb01-3017c687319f",
   "metadata": {},
   "outputs": [
    {
     "name": "stdout",
     "output_type": "stream",
     "text": [
      "train 2.3013699054718018\n",
      "val 2.319472551345825\n"
     ]
    }
   ],
   "source": [
    "def split_loss(split):\n",
    "    X,Y = {\n",
    "        'train': (Xtr, Ytr),\n",
    "        'val': (Xdev, Ydev),\n",
    "        'test': (Xte, Yte)\n",
    "    }[split] # indexing into a dictionary\n",
    "\n",
    "\n",
    "    # forward pass\n",
    "    emb = C[X] # embed the characters into vectors\n",
    "    x = emb.view(X.shape[0], -1) # = embcat\n",
    "    for layer in layers:\n",
    "        x = layer(x)\n",
    "    loss = F.cross_entropy(x, Y)\n",
    "    print(f\"{split} {loss.item()}\")\n",
    "    \n",
    "split_loss('train')\n",
    "split_loss('val')"
   ]
  },
  {
   "cell_type": "code",
   "execution_count": 353,
   "id": "df901589-15e2-4ebb-9eb6-593ad85a8469",
   "metadata": {},
   "outputs": [
    {
     "name": "stdout",
     "output_type": "stream",
     "text": [
      "None\n"
     ]
    },
    {
     "name": "stderr",
     "output_type": "stream",
     "text": [
      "/var/folders/n4/wy0c3pt140qc9nsgq3n4zbcc0000gn/T/ipykernel_41904/4292353474.py:1: UserWarning: The .grad attribute of a Tensor that is not a leaf Tensor is being accessed. Its .grad attribute won't be populated during autograd.backward(). If you indeed want the .grad field to be populated for a non-leaf Tensor, use .retain_grad() on the non-leaf Tensor. If you access the non-leaf Tensor by mistake, make sure you access the leaf Tensor instead. See github.com/pytorch/pytorch/pull/30531 for more informations. (Triggered internally at /Users/runner/work/pytorch/pytorch/pytorch/build/aten/src/ATen/core/TensorBody.h:494.)\n",
      "  print(layers[3].out.grad)\n"
     ]
    }
   ],
   "source": [
    "print(layers[3].out.grad)"
   ]
  },
  {
   "cell_type": "code",
   "execution_count": 351,
   "id": "cbb543cf-e80d-4df0-a4ef-37c78c0125f3",
   "metadata": {},
   "outputs": [
    {
     "name": "stdout",
     "output_type": "stream",
     "text": [
      "layer 1 (Tanh): mean -0.06, std 0.75, saturated: 17.54%\n",
      "layer 4 (Tanh): mean 0.00, std 0.67, saturated: 4.10%\n",
      "layer 7 (Tanh): mean 0.00, std 0.68, saturated: 2.76%\n",
      "layer 10 (Tanh): mean 0.01, std 0.68, saturated: 2.28%\n",
      "layer 13 (Tanh): mean 0.00, std 0.68, saturated: 1.46%\n"
     ]
    },
    {
     "data": {
      "text/plain": [
       "Text(0.5, 1.0, 'Activation Distribution')"
      ]
     },
     "execution_count": 351,
     "metadata": {},
     "output_type": "execute_result"
    },
    {
     "data": {
      "image/png": "[encoded data removed]",
      "text/plain": [
       "<Figure size 2000x400 with 1 Axes>"
      ]
     },
     "metadata": {},
     "output_type": "display_data"
    }
   ],
   "source": [
    "#visualize histograms\n",
    "plt.figure(figsize=(20,4)) # width(x) and height(y) of the plot\n",
    "legends = []\n",
    "for i, layer in enumerate(layers[:-1]): # exclude the last layer\n",
    "    if isinstance(layer, Tanh):\n",
    "        t = layer.out\n",
    "        print('layer %d (%s): mean %.2f, std %.2f, saturated: %.2f%%' % (i, layer.__class__.__name__, t.mean(), t.std(), (t.abs()>0.97).float().mean()*100))\n",
    "        hy, hx = torch.histogram(t, density=True) # returns Y and X in that order\n",
    "        plt.plot(hx[:-1].detach(), hy.detach())\n",
    "        legends.append(f'layer {i} ({layer.__class__.__name__})')\n",
    "plt.legend(legends);\n",
    "plt.title(\"Activation Distribution\")"
   ]
  },
  {
   "cell_type": "code",
   "execution_count": 346,
   "id": "09817211-f5e4-4ef9-81c7-72e5bc7aabca",
   "metadata": {},
   "outputs": [
    {
     "name": "stderr",
     "output_type": "stream",
     "text": [
      "/var/folders/n4/wy0c3pt140qc9nsgq3n4zbcc0000gn/T/ipykernel_41904/3116839153.py:6: UserWarning: The .grad attribute of a Tensor that is not a leaf Tensor is being accessed. Its .grad attribute won't be populated during autograd.backward(). If you indeed want the .grad field to be populated for a non-leaf Tensor, use .retain_grad() on the non-leaf Tensor. If you access the non-leaf Tensor by mistake, make sure you access the leaf Tensor instead. See github.com/pytorch/pytorch/pull/30531 for more informations. (Triggered internally at /Users/runner/work/pytorch/pytorch/pytorch/build/aten/src/ATen/core/TensorBody.h:494.)\n",
      "  t = layer.out.grad\n"
     ]
    },
    {
     "ename": "TypeError",
     "evalue": "histogram() received an invalid combination of arguments - got (NoneType, density=bool), but expected one of:\n * (Tensor input, Tensor bins, *, Tensor weight = None, bool density = False, tuple of Tensors out = None)\n * (Tensor input, int bins = 100, *, tuple of floats range = None, Tensor weight = None, bool density = False, tuple of Tensors out = None)\n",
     "output_type": "error",
     "traceback": [
      "\u001b[0;31m---------------------------------------------------------------------------\u001b[0m",
      "\u001b[0;31mTypeError\u001b[0m                                 Traceback (most recent call last)",
      "Cell \u001b[0;32mIn[346], line 8\u001b[0m\n\u001b[1;32m      6\u001b[0m t \u001b[38;5;241m=\u001b[39m layer\u001b[38;5;241m.\u001b[39mout\u001b[38;5;241m.\u001b[39mgrad\n\u001b[1;32m      7\u001b[0m \u001b[38;5;66;03m#print('layer %d (%s): mean %+f, std %e' % (i, layer.__class__.__name__, t.mean(), t.std()))\u001b[39;00m\n\u001b[0;32m----> 8\u001b[0m hy, hx \u001b[38;5;241m=\u001b[39m \u001b[43mtorch\u001b[49m\u001b[38;5;241;43m.\u001b[39;49m\u001b[43mhistogram\u001b[49m\u001b[43m(\u001b[49m\u001b[43mt\u001b[49m\u001b[43m,\u001b[49m\u001b[43m \u001b[49m\u001b[43mdensity\u001b[49m\u001b[38;5;241;43m=\u001b[39;49m\u001b[38;5;28;43;01mTrue\u001b[39;49;00m\u001b[43m)\u001b[49m \u001b[38;5;66;03m# returns Y and X in that order\u001b[39;00m\n\u001b[1;32m      9\u001b[0m plt\u001b[38;5;241m.\u001b[39mplot(hx[:\u001b[38;5;241m-\u001b[39m\u001b[38;5;241m1\u001b[39m]\u001b[38;5;241m.\u001b[39mdetach(), hy\u001b[38;5;241m.\u001b[39mdetach())\n\u001b[1;32m     10\u001b[0m legends\u001b[38;5;241m.\u001b[39mappend(\u001b[38;5;124mf\u001b[39m\u001b[38;5;124m'\u001b[39m\u001b[38;5;124mlayer \u001b[39m\u001b[38;5;132;01m{\u001b[39;00mi\u001b[38;5;132;01m}\u001b[39;00m\u001b[38;5;124m (\u001b[39m\u001b[38;5;132;01m{\u001b[39;00mlayer\u001b[38;5;241m.\u001b[39m\u001b[38;5;18m__class__\u001b[39m\u001b[38;5;241m.\u001b[39m\u001b[38;5;18m__name__\u001b[39m\u001b[38;5;132;01m}\u001b[39;00m\u001b[38;5;124m)\u001b[39m\u001b[38;5;124m'\u001b[39m)\n",
      "\u001b[0;31mTypeError\u001b[0m: histogram() received an invalid combination of arguments - got (NoneType, density=bool), but expected one of:\n * (Tensor input, Tensor bins, *, Tensor weight = None, bool density = False, tuple of Tensors out = None)\n * (Tensor input, int bins = 100, *, tuple of floats range = None, Tensor weight = None, bool density = False, tuple of Tensors out = None)\n"
     ]
    },
    {
     "data": {
      "text/plain": [
       "<Figure size 2000x400 with 0 Axes>"
      ]
     },
     "metadata": {},
     "output_type": "display_data"
    }
   ],
   "source": [
    "#visualize histograms\n",
    "plt.figure(figsize=(20,4)) # width(x) and height(y) of the plot\n",
    "legends = []\n",
    "for i, layer in enumerate(layers[:-1]): # exclude the last layer\n",
    "    if isinstance(layer, Tanh):\n",
    "        t = layer.out.grad\n",
    "        #print('layer %d (%s): mean %+f, std %e' % (i, layer.__class__.__name__, t.mean(), t.std()))\n",
    "        hy, hx = torch.histogram(t, density=True) # returns Y and X in that order\n",
    "        plt.plot(hx[:-1].detach(), hy.detach())\n",
    "        legends.append(f'layer {i} ({layer.__class__.__name__})')\n",
    "plt.legend(legends);\n",
    "plt.title(\"Gradient Distribution\") # we want the gradients of all the layers to roughly be the same\n",
    "# read the gradients from layer 4 to layer 0, since this is a backward pass"
   ]
  },
  {
   "cell_type": "code",
   "execution_count": null,
   "id": "eeab7d67-c40f-46fe-af41-9cb8d729535f",
   "metadata": {},
   "outputs": [],
   "source": []
  },
  {
   "cell_type": "code",
   "execution_count": null,
   "id": "6f73bb88-6603-4c3f-9619-7310c307a5e9",
   "metadata": {},
   "outputs": [],
   "source": [
    "plt.figure(figsize=(20,4)) \n",
    "legends = []\n",
    "for i, p in enumerate(parameters): \n",
    "    t = p.grad\n",
    "    if p.ndim == 2: # include only the weights, not the biases\n",
    "        print('weight %10s | mean %+f | std %e | grad:data ratio %e' % (tuple(p.shape), t.mean(), t.std(), t.std()/p.std()))\n",
    "        hy, hx = torch.histogram(t, density=True) # returns Y and X in that order\n",
    "        plt.plot(hx[:-1].detach(), hy.detach())\n",
    "        legends.append(f'layer {i} ({layer.__class__.__name__})')\n",
    "plt.legend(legends);\n",
    "plt.title(\"Weights Gradient Distribution\")"
   ]
  },
  {
   "cell_type": "code",
   "execution_count": null,
   "id": "434f9ca5-db8a-4078-a5f0-c133bccd343d",
   "metadata": {},
   "outputs": [],
   "source": [
    "plt.figure(figsize=(20,4)) \n",
    "legends = []\n",
    "for i, p in enumerate(parameters): \n",
    "    if p.ndim == 2: # only the weights\n",
    "        plt.plot([ud[j][i] for j in range(len(ud))]) # plot of the parameters over time; by default range(len(ud)) is the x-axis of the plot\n",
    "        legends.append('param %d' % i)\n",
    "\n",
    "plt.plot([0, len(ud)], [-3, -3], 'k') # these ratios should be around 1e-3; indicated on plot\n",
    "plt.legend(legends);"
   ]
  },
  {
   "cell_type": "code",
   "execution_count": null,
   "id": "86eb85e9-ca23-43b1-8d9a-32b361f4653f",
   "metadata": {},
   "outputs": [],
   "source": [
    "len(ud)"
   ]
  },
  {
   "cell_type": "code",
   "execution_count": null,
   "id": "6f7c0035-0df5-4fab-b748-3d2f8442fc5b",
   "metadata": {},
   "outputs": [],
   "source": [
    "plt.plot([1,2], [3,3])"
   ]
  },
  {
   "cell_type": "code",
   "execution_count": null,
   "id": "e382ee46-2f02-4528-b185-6ee793be29f6",
   "metadata": {},
   "outputs": [],
   "source": []
  },
  {
   "cell_type": "code",
   "execution_count": null,
   "id": "7463265b-bb14-4a5e-bf78-82b57e24699a",
   "metadata": {},
   "outputs": [],
   "source": []
  },
  {
   "cell_type": "code",
   "execution_count": null,
   "id": "15c0e6b2-da41-4302-9688-6578096b5f4e",
   "metadata": {},
   "outputs": [],
   "source": []
  },
  {
   "cell_type": "code",
   "execution_count": null,
   "id": "015d702e-77f2-44c6-8293-bc700c6cb572",
   "metadata": {},
   "outputs": [],
   "source": []
  }
 ],
 "metadata": {
  "kernelspec": {
   "display_name": "Python 3 (ipykernel)",
   "language": "python",
   "name": "python3"
  },
  "language_info": {
   "codemirror_mode": {
    "name": "ipython",
    "version": 3
   },
   "file_extension": ".py",
   "mimetype": "text/x-python",
   "name": "python",
   "nbconvert_exporter": "python",
   "pygments_lexer": "ipython3",
   "version": "3.8.19"
  }
 },
 "nbformat": 4,
 "nbformat_minor": 5
}
