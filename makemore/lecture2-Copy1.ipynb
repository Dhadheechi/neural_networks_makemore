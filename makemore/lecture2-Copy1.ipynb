{
 "cells": [
  {
   "cell_type": "code",
   "execution_count": 27,
   "id": "2c18c092-b800-4722-b80c-fc9872a50a8c",
   "metadata": {},
   "outputs": [],
   "source": [
    "import torch\n",
    "import torch.nn.functional as F\n",
    "import matplotlib.pyplot as plt\n",
    "%matplotlib inline"
   ]
  },
  {
   "cell_type": "code",
   "execution_count": 28,
   "id": "002ff467-c31b-481f-abb3-6930a907fe32",
   "metadata": {},
   "outputs": [
    {
     "data": {
      "text/plain": [
       "['emma', 'olivia', 'ava', 'isabella', 'sophia', 'charlotte', 'mia', 'amelia']"
      ]
     },
     "execution_count": 28,
     "metadata": {},
     "output_type": "execute_result"
    }
   ],
   "source": [
    "# read in all the words\n",
    "words = open('names.txt', 'r').read().splitlines()\n",
    "words[:8]"
   ]
  },
  {
   "cell_type": "code",
   "execution_count": 29,
   "id": "24072285-197d-45bd-8ae7-6e852afd7f75",
   "metadata": {},
   "outputs": [
    {
     "data": {
      "text/plain": [
       "32033"
      ]
     },
     "execution_count": 29,
     "metadata": {},
     "output_type": "execute_result"
    }
   ],
   "source": [
    "len(words)"
   ]
  },
  {
   "cell_type": "code",
   "execution_count": 30,
   "id": "adfe31be-54f0-4ec5-8ebe-3c900a7bc139",
   "metadata": {},
   "outputs": [
    {
     "name": "stdout",
     "output_type": "stream",
     "text": [
      "{1: 'a', 2: 'b', 3: 'c', 4: 'd', 5: 'e', 6: 'f', 7: 'g', 8: 'h', 9: 'i', 10: 'j', 11: 'k', 12: 'l', 13: 'm', 14: 'n', 15: 'o', 16: 'p', 17: 'q', 18: 'r', 19: 's', 20: 't', 21: 'u', 22: 'v', 23: 'w', 24: 'x', 25: 'y', 26: 'z', 0: '.'}\n"
     ]
    }
   ],
   "source": [
    "chars = sorted(list(set(''.join(words))))\n",
    "ctoi = {c:i+1 for i,c in enumerate(chars)}\n",
    "ctoi['.'] = 0\n",
    "itoc = {i:c for c,i in ctoi.items()}\n",
    "print(itoc)"
   ]
  },
  {
   "cell_type": "code",
   "execution_count": 31,
   "id": "54bd5825-f232-44c9-a900-be945f1aced1",
   "metadata": {},
   "outputs": [],
   "source": [
    "# build the dataset\n",
    "\n",
    "block_size = 3 # context length; how many characters do we need to predict the next one?\n",
    "X,Y = [], []\n",
    "\n",
    "for w in words:\n",
    "    context = [0]* block_size\n",
    "    for ch in w + '.':\n",
    "        index = ctoi[ch]\n",
    "        X.append(context)\n",
    "        Y.append(index)\n",
    "        #print(''.join(itoc[i] for i in context), '----->', itoc[index])\n",
    "        context = context[1:] + [index] # crop and append\n",
    "\n",
    "X = torch.tensor(X)\n",
    "Y = torch.tensor(Y)"
   ]
  },
  {
   "cell_type": "code",
   "execution_count": 32,
   "id": "79da9f45-508a-4321-b52e-3def01c86508",
   "metadata": {},
   "outputs": [
    {
     "name": "stdout",
     "output_type": "stream",
     "text": [
      "torch.Size([182625, 3]) torch.Size([182625])\n",
      "torch.Size([22655, 3]) torch.Size([22655])\n",
      "torch.Size([22866, 3]) torch.Size([22866])\n"
     ]
    }
   ],
   "source": [
    "def build_dataset(words):\n",
    "    block_size = 3 # context length; how many characters do we need to predict the next one?\n",
    "    X,Y = [], []\n",
    "    \n",
    "    for w in words:\n",
    "        context = [0]* block_size\n",
    "        for ch in w + '.':\n",
    "            index = ctoi[ch]\n",
    "            X.append(context)\n",
    "            Y.append(index)\n",
    "            #print(''.join(itoc[i] for i in context), '----->', itoc[index])\n",
    "            context = context[1:] + [index] # crop and append\n",
    "    \n",
    "    X = torch.tensor(X)\n",
    "    Y = torch.tensor(Y)\n",
    "    print(X.shape, Y.shape)\n",
    "    return X,Y\n",
    "\n",
    "import random\n",
    "random.seed(42)\n",
    "random.shuffle(words)\n",
    "ix1 = int(0.8*len(words))\n",
    "ix2 = int(0.9*len(words))\n",
    "Xtr, Ytr = build_dataset(words[:ix1])\n",
    "Xdev, Ydev = build_dataset(words[ix1:ix2])\n",
    "Xte, Yte = build_dataset(words[ix2:])"
   ]
  },
  {
   "cell_type": "code",
   "execution_count": 33,
   "id": "ebd60366-ac79-4e9e-9199-0567448134c5",
   "metadata": {},
   "outputs": [
    {
     "data": {
      "text/plain": [
       "(torch.Size([182625, 3]), torch.int64, torch.Size([182625]), torch.int64)"
      ]
     },
     "execution_count": 33,
     "metadata": {},
     "output_type": "execute_result"
    }
   ],
   "source": [
    "Xtr.shape, Xtr.dtype, Ytr.shape, Ytr.dtype"
   ]
  },
  {
   "cell_type": "code",
   "execution_count": 34,
   "id": "e027874f-cf3a-4c97-ac9f-26c42a1cf7e7",
   "metadata": {},
   "outputs": [],
   "source": [
    "# making it more respectable"
   ]
  },
  {
   "cell_type": "code",
   "execution_count": 35,
   "id": "9ab48826-c268-438a-a004-706d04ea2eaa",
   "metadata": {},
   "outputs": [
    {
     "data": {
      "text/plain": [
       "(torch.Size([182625, 3]), torch.Size([182625]))"
      ]
     },
     "execution_count": 35,
     "metadata": {},
     "output_type": "execute_result"
    }
   ],
   "source": [
    "Xtr.shape, Ytr.shape # dataset"
   ]
  },
  {
   "cell_type": "code",
   "execution_count": 115,
   "id": "8c7a8608-e05e-42ef-96e4-f60181e188f8",
   "metadata": {},
   "outputs": [],
   "source": [
    "g = torch.Generator().manual_seed(2147483647)\n",
    "C = torch.randn((27,10), generator=g) # ten-dimensional embeddings\n",
    "W1 = torch.randn((30,200), generator=g)\n",
    "b1 = torch.randn(200, generator=g)\n",
    "W2 = torch.randn((200,27), generator=g)\n",
    "b2 = torch.randn(27, generator=g)\n",
    "parameters = [C, W1, b1, W2, b2]"
   ]
  },
  {
   "cell_type": "code",
   "execution_count": 116,
   "id": "ea79f4ac-06cf-465b-ba1c-5b67b1640cf8",
   "metadata": {},
   "outputs": [
    {
     "name": "stdout",
     "output_type": "stream",
     "text": [
      "26.00469207763672\n"
     ]
    }
   ],
   "source": [
    "emb = C[Xtr] # (32,3,2)\n",
    "h = torch.tanh(emb.view(-1,30) @ W1 + b1) # (32,100)\n",
    "logits = h @ W2 + b2 # (32,27)\n",
    "loss = F.cross_entropy(logits, Ytr)\n",
    "#probs = torch.ones((Xtr.shape[0], 27)) * (1/27)\n",
    "#loss = -probs[torch.arange(Xtr.shape[0]), Ytr].log().mean()\n",
    "print(loss.item()) # evalutaing the loss on the entire training set"
   ]
  },
  {
   "cell_type": "code",
   "execution_count": 117,
   "id": "bf638b36-227c-40c8-9222-5c6da90b30ca",
   "metadata": {},
   "outputs": [
    {
     "data": {
      "text/plain": [
       "11897"
      ]
     },
     "execution_count": 117,
     "metadata": {},
     "output_type": "execute_result"
    }
   ],
   "source": [
    "sum(p.nelement() for p in parameters)"
   ]
  },
  {
   "cell_type": "code",
   "execution_count": 118,
   "id": "37571a34-5599-423f-ad41-5ec5bdb845f9",
   "metadata": {},
   "outputs": [],
   "source": [
    "for p in parameters:\n",
    "    p.requires_grad = True"
   ]
  },
  {
   "cell_type": "code",
   "execution_count": 119,
   "id": "3dd2db4d-39e7-4523-8b5f-7d870714af5d",
   "metadata": {},
   "outputs": [],
   "source": [
    "lre = torch.linspace(-1,-2,10000) # log values of the learning rates, which are linearly spaced\n",
    "lrs = 10**lre"
   ]
  },
  {
   "cell_type": "code",
   "execution_count": 120,
   "id": "cb5381a2-9281-42be-a476-59d21b9644b6",
   "metadata": {},
   "outputs": [],
   "source": [
    "lri = []\n",
    "lossi = []\n",
    "stepi = []"
   ]
  },
  {
   "cell_type": "code",
   "execution_count": 122,
   "id": "e6216168-8e43-4a81-b578-dbe5226b5292",
   "metadata": {},
   "outputs": [],
   "source": [
    "for i in range(200000):\n",
    "    # minibatch\n",
    "    ix = torch.randint(0, Xtr.shape[0], (64,)) # generating 32 random indices for the minibatch\n",
    "    # forward pass\n",
    "    emb = C[Xtr[ix]] # (32,3,2)\n",
    "    h = torch.tanh(emb.view(-1,30) @ W1 + b1) # (32,100)\n",
    "    logits = h @ W2 + b2 # (32,27)\n",
    "    loss = F.cross_entropy(logits, Ytr[ix])\n",
    "    #print(loss.item())\n",
    "\n",
    "    # backward pass\n",
    "    for p in parameters:\n",
    "        p.grad = None\n",
    "    loss.backward()\n",
    "\n",
    "    # update\n",
    "    if i < 50000:\n",
    "        lr = 0.1\n",
    "    elif i < 150000:\n",
    "        lr = 0.05\n",
    "    else:\n",
    "        lr = 0.01\n",
    "        \n",
    "    \n",
    "    for p in parameters:\n",
    "        p.data += -lr * p.grad\n",
    "\n",
    "    # track stats\n",
    "    lossi.append(loss.log10().item())\n",
    "    stepi.append(i)\n",
    "\n",
    "#print(loss.item())"
   ]
  },
  {
   "cell_type": "markdown",
   "id": "a80d2a27-dba9-4bb7-bce8-da5aa44e65d6",
   "metadata": {},
   "source": [
    "The loss wobbles around in the above example since the gradient we used is just an approximation; it's not the actual gradient. But still, the loss goes down over many iterations. "
   ]
  },
  {
   "cell_type": "code",
   "execution_count": 123,
   "id": "ff535104-5c56-4e12-8e62-ac773fa2603c",
   "metadata": {},
   "outputs": [
    {
     "data": {
      "text/plain": [
       "[<matplotlib.lines.Line2D at 0x1328aeee0>]"
      ]
     },
     "execution_count": 123,
     "metadata": {},
     "output_type": "execute_result"
    },
    {
     "data": {
      "image/png": "[encoded data removed]",
      "text/plain": [
       "<Figure size 640x480 with 1 Axes>"
      ]
     },
     "metadata": {},
     "output_type": "display_data"
    }
   ],
   "source": [
    "plt.plot(stepi, lossi) # this plot is used to find a good learning rate; note that x axis has log values of the lrs; the *exponents* of 10"
   ]
  },
  {
   "cell_type": "code",
   "execution_count": 124,
   "id": "f68e2375-89f6-4bf3-bfe3-8d5aad1121e1",
   "metadata": {},
   "outputs": [
    {
     "name": "stdout",
     "output_type": "stream",
     "text": [
      "2.122345209121704\n"
     ]
    }
   ],
   "source": [
    "emb = C[Xtr] # (32,3,2)\n",
    "h = torch.tanh(emb.view(-1,30) @ W1 + b1) # (32,100)\n",
    "logits = h @ W2 + b2 # (32,27)\n",
    "loss = F.cross_entropy(logits, Ytr)\n",
    "print(loss.item()) # evalutaing the loss on the entire training set"
   ]
  },
  {
   "cell_type": "code",
   "execution_count": 125,
   "id": "034bba11-18df-4074-a200-a9ca189f37df",
   "metadata": {},
   "outputs": [
    {
     "name": "stdout",
     "output_type": "stream",
     "text": [
      "2.1572790145874023\n"
     ]
    }
   ],
   "source": [
    "emb = C[Xdev] # (32,3,2)\n",
    "h = torch.tanh(emb.view(-1,30) @ W1 + b1) # (32,100)\n",
    "logits = h @ W2 + b2 # (32,27)\n",
    "loss = F.cross_entropy(logits, Ydev)\n",
    "print(loss.item())"
   ]
  },
  {
   "cell_type": "code",
   "execution_count": 130,
   "id": "e7bda42c-2fdf-4d3d-8de3-7c2002e67da7",
   "metadata": {},
   "outputs": [
    {
     "data": {
      "image/png": "[encoded data removed]",
      "text/plain": [
       "<Figure size 800x800 with 1 Axes>"
      ]
     },
     "metadata": {},
     "output_type": "display_data"
    }
   ],
   "source": [
    "# visualize dimensions 0 and 1 of the embedding matrix C for all characters\n",
    "plt.figure(figsize=(8,8))\n",
    "plt.scatter(C[:,0].data, C[:,1].data, s=200)\n",
    "for i in range(C.shape[0]):\n",
    "    plt.text(C[i,0].item(), C[i,1].item(), itoc[i], ha=\"center\", va=\"center\", color='white')\n",
    "plt.grid('minor')"
   ]
  },
  {
   "cell_type": "code",
   "execution_count": 131,
   "id": "33429556-b0ba-4d9c-9a4c-b0091e57f805",
   "metadata": {},
   "outputs": [
    {
     "name": "stdout",
     "output_type": "stream",
     "text": [
      "carmah.\n",
      "amelle.\n",
      "khi.\n",
      "mili.\n",
      "taty.\n",
      "hachys.\n",
      "emmahnen.\n",
      "deliah.\n",
      "jareen.\n",
      "nellara.\n",
      "chaiif.\n",
      "kaleigh.\n",
      "ham.\n",
      "por.\n",
      "desinn.\n",
      "shon.\n",
      "malian.\n",
      "quinathoniearyni.\n",
      "jace.\n",
      "pirran.\n"
     ]
    }
   ],
   "source": [
    "# sample from the model\n",
    "g = torch. Generator().manual_seed (2147483647 + 10)\n",
    "for _ in range (20) :\n",
    "    out = []\n",
    "    context = [0] * block_size # initialize with all ...\n",
    "    while True:\n",
    "        emb = C[torch.tensor([context])] # (1,block_size,d)\n",
    "        h = torch.tanh(emb.view(1, -1) @ W1 + b1)\n",
    "        logits = h @ W2 + b2\n",
    "        #probs = torch.ones((1, 27)) * (1/27) # each character has a uniform probability\n",
    "        probs = F.softmax(logits, dim=1)\n",
    "        ix = torch.multinomial(probs, num_samples=1, generator=g). item()\n",
    "        context = context [1:] + [ix]\n",
    "        out.append(ix)\n",
    "        if ix == 0: break\n",
    "    print(''.join(itoc[i] for i in out))"
   ]
  },
  {
   "cell_type": "code",
   "execution_count": null,
   "id": "c7834574-14e3-45e8-9f9a-82a10d08f4b5",
   "metadata": {},
   "outputs": [],
   "source": []
  }
 ],
 "metadata": {
  "kernelspec": {
   "display_name": "Python 3 (ipykernel)",
   "language": "python",
   "name": "python3"
  },
  "language_info": {
   "codemirror_mode": {
    "name": "ipython",
    "version": 3
   },
   "file_extension": ".py",
   "mimetype": "text/x-python",
   "name": "python",
   "nbconvert_exporter": "python",
   "pygments_lexer": "ipython3",
   "version": "3.8.19"
  }
 },
 "nbformat": 4,
 "nbformat_minor": 5
}
